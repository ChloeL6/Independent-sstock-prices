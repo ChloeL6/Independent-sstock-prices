{
 "cells": [
  {
   "cell_type": "code",
   "execution_count": 108,
   "metadata": {},
   "outputs": [
    {
     "name": "stderr",
     "output_type": "stream",
     "text": [
      "                                                                                \r"
     ]
    }
   ],
   "source": [
    "import pyspark\n",
    "import pandas as pd\n",
    "from pyspark.sql import SparkSession\n",
    "import pyspark.sql.functions as sf      # sf = spark functions\n",
    "import pyspark.sql.types as st          # st = spark types\n",
    "\n",
    "\n",
    "sparkql = pyspark.sql.SparkSession.builder.master('local').getOrCreate()\n",
    "\n",
    "import os\n",
    "data_dir = '../data'\n",
    "\n",
    "file_names = ['ADBE','AMZN', 'CRM', 'CSCO', 'GOOGL', 'IBM','INTC','META','MSFT','NFLX','NVDA','ORCL','TSLA']\n",
    "\n",
    "columns = 'stock_name string, date date, open float, high float, low float, close float, adj_close float, volume int'\n",
    "\n",
    "df = sparkql.read.csv(os.path.join(data_dir,'AAPL.csv'), header=True)\n",
    "df = df.toDF('date', 'open', 'high', 'low', 'close', 'adj_close', 'volume')\n",
    "df = df.withColumn('stock_name', sf.lit('AAPL'))\n",
    "df = df.select('stock_name', 'date', 'open', 'high', 'low', 'close', 'adj_close', 'volume')\n",
    "\n",
    "for csv in file_names:\n",
    "    idf = sparkql.read.csv(os.path.join(data_dir,csv+'.csv'), header=True)\n",
    "    idf = idf.toDF('date', 'open', 'high', 'low', 'close', 'adj_close', 'volume')\n",
    "    idf = idf.withColumn('stock_name', sf.lit(csv))\n",
    "    idf = idf.select('stock_name', 'date', 'open', 'high', 'low', 'close', 'adj_close', 'volume')\n",
    "    #idf = idf.toPandas()\n",
    "    \n",
    "    df = df.union(idf)\n",
    "\n",
    "\n",
    "df.write.csv(os.path.join(data_dir,'all_tech_stocks'), header=True)\n",
    "#df = sparkql.read.csv(os.path.join(data_dir,'all_tech_stocks.csv'), header=True)"
   ]
  },
  {
   "cell_type": "code",
   "execution_count": 105,
   "metadata": {},
   "outputs": [
    {
     "data": {
      "text/plain": [
       "[Row(stock_name='TSLA', date='2022-12-15', open='153.440002', high='160.929993', low='153.279999', close='157.669998', adj_close='157.669998', volume='122334500'),\n",
       " Row(stock_name='TSLA', date='2022-12-16', open='159.639999', high='160.990005', low='150.039993', close='150.229996', adj_close='150.229996', volume='139032200'),\n",
       " Row(stock_name='TSLA', date='2022-12-19', open='154.000000', high='155.250000', low='145.820007', close='149.869995', adj_close='149.869995', volume='139390600'),\n",
       " Row(stock_name='TSLA', date='2022-12-20', open='146.050003', high='148.470001', low='137.660004', close='137.800003', adj_close='137.800003', volume='159563300'),\n",
       " Row(stock_name='TSLA', date='2022-12-21', open='139.339996', high='141.259995', low='135.889999', close='137.570007', adj_close='137.570007', volume='145417400'),\n",
       " Row(stock_name='TSLA', date='2022-12-22', open='136.000000', high='136.630005', low='122.260002', close='125.349998', adj_close='125.349998', volume='210090300'),\n",
       " Row(stock_name='TSLA', date='2022-12-23', open='126.370003', high='128.619995', low='121.019997', close='123.150002', adj_close='123.150002', volume='166989700'),\n",
       " Row(stock_name='TSLA', date='2022-12-27', open='117.500000', high='119.669998', low='108.760002', close='109.099998', adj_close='109.099998', volume='208643400'),\n",
       " Row(stock_name='TSLA', date='2022-12-28', open='110.349998', high='116.269997', low='108.239998', close='112.709999', adj_close='112.709999', volume='221070500'),\n",
       " Row(stock_name='TSLA', date='2022-12-29', open='120.389999', high='123.570000', low='117.500000', close='121.820000', adj_close='121.820000', volume='221923300')]"
      ]
     },
     "execution_count": 105,
     "metadata": {},
     "output_type": "execute_result"
    }
   ],
   "source": [
    "df.tail(10)"
   ]
  },
  {
   "cell_type": "code",
   "execution_count": 118,
   "metadata": {},
   "outputs": [
    {
     "ename": "FileNotFoundError",
     "evalue": "[Errno 2] No such file or directory: '../data/all_tech_stocks/part-000*c000.csv'",
     "output_type": "error",
     "traceback": [
      "\u001b[0;31m---------------------------------------------------------------------------\u001b[0m",
      "\u001b[0;31mFileNotFoundError\u001b[0m                         Traceback (most recent call last)",
      "\u001b[0;32m/var/folders/74/s3dyx3n926z8q5dgtnrj1yp00000gp/T/ipykernel_8773/3425394979.py\u001b[0m in \u001b[0;36m<module>\u001b[0;34m\u001b[0m\n\u001b[1;32m     57\u001b[0m \u001b[0;34m\u001b[0m\u001b[0m\n\u001b[1;32m     58\u001b[0m \u001b[0mcreate_dataset\u001b[0m\u001b[0;34m(\u001b[0m\u001b[0;34m)\u001b[0m\u001b[0;34m\u001b[0m\u001b[0;34m\u001b[0m\u001b[0m\n\u001b[0;32m---> 59\u001b[0;31m \u001b[0mcreate_stocks_table\u001b[0m\u001b[0;34m(\u001b[0m\u001b[0;34m)\u001b[0m\u001b[0;34m\u001b[0m\u001b[0;34m\u001b[0m\u001b[0m\n\u001b[0m",
      "\u001b[0;32m/var/folders/74/s3dyx3n926z8q5dgtnrj1yp00000gp/T/ipykernel_8773/3425394979.py\u001b[0m in \u001b[0;36mcreate_stocks_table\u001b[0;34m()\u001b[0m\n\u001b[1;32m     51\u001b[0m     \u001b[0mtable\u001b[0m \u001b[0;34m=\u001b[0m \u001b[0mclient\u001b[0m\u001b[0;34m.\u001b[0m\u001b[0mcreate_table\u001b[0m\u001b[0;34m(\u001b[0m\u001b[0mtable\u001b[0m\u001b[0;34m,\u001b[0m \u001b[0mexists_ok\u001b[0m\u001b[0;34m=\u001b[0m\u001b[0;32mTrue\u001b[0m\u001b[0;34m)\u001b[0m\u001b[0;34m\u001b[0m\u001b[0;34m\u001b[0m\u001b[0m\n\u001b[1;32m     52\u001b[0m \u001b[0;34m\u001b[0m\u001b[0m\n\u001b[0;32m---> 53\u001b[0;31m     \u001b[0;32mwith\u001b[0m \u001b[0mopen\u001b[0m\u001b[0;34m(\u001b[0m\u001b[0mDATA_FILE\u001b[0m\u001b[0;34m,\u001b[0m \u001b[0;34m\"rb\"\u001b[0m\u001b[0;34m)\u001b[0m \u001b[0;32mas\u001b[0m \u001b[0msource_file\u001b[0m\u001b[0;34m:\u001b[0m\u001b[0;34m\u001b[0m\u001b[0;34m\u001b[0m\u001b[0m\n\u001b[0m\u001b[1;32m     54\u001b[0m         \u001b[0mjob\u001b[0m \u001b[0;34m=\u001b[0m \u001b[0mclient\u001b[0m\u001b[0;34m.\u001b[0m\u001b[0mload_table_from_file\u001b[0m\u001b[0;34m(\u001b[0m\u001b[0msource_file\u001b[0m\u001b[0;34m,\u001b[0m \u001b[0mtable_id\u001b[0m\u001b[0;34m,\u001b[0m \u001b[0mjob_config\u001b[0m\u001b[0;34m=\u001b[0m\u001b[0mjob_config\u001b[0m\u001b[0;34m)\u001b[0m\u001b[0;34m\u001b[0m\u001b[0;34m\u001b[0m\u001b[0m\n\u001b[1;32m     55\u001b[0m \u001b[0;34m\u001b[0m\u001b[0m\n",
      "\u001b[0;31mFileNotFoundError\u001b[0m: [Errno 2] No such file or directory: '../data/all_tech_stocks/part-000*c000.csv'"
     ]
    }
   ],
   "source": [
    "from google.cloud import bigquery\n",
    "from google.oauth2 import service_account\n",
    "from google.cloud.exceptions import NotFound\n",
    "\n",
    "PROJECT_NAME = 'team-week-3'\n",
    "DATASET_NAME = 'tech_stocks_world_events'\n",
    "\n",
    "key_path = \"/Users/Ruben/Desktop/google_cred/.cred/team_project_3/team-week-3-2f1d10dceea4.json\"\n",
    "\n",
    "credentials = service_account.Credentials.from_service_account_file(\n",
    "    key_path, scopes=[\"https://www.googleapis.com/auth/cloud-platform\"],\n",
    ")\n",
    "\n",
    "client = bigquery.Client(credentials=credentials, project=credentials.project_id)\n",
    "\n",
    "dataset_id = f\"{PROJECT_NAME}.{DATASET_NAME}\"\n",
    "table_id = f\"{PROJECT_NAME}.{DATASET_NAME}.stocks\"\n",
    "\n",
    "data_dir = '../data'\n",
    "DATA_FILE = os.path.join(data_dir,'all_tech_stocks/part-000*c000.csv')\n",
    "\n",
    "TABLE_SCHEMA = [\n",
    "    bigquery.SchemaField('stock_name', 'STRING', mode='REQUIRED'),\n",
    "    bigquery.SchemaField('date', 'DATE', mode='NULLABLE'),\n",
    "    bigquery.SchemaField('open', 'FLOAT', mode='NULLABLE'),\n",
    "    bigquery.SchemaField('high', 'FLOAT', mode='NULLABLE'),\n",
    "    bigquery.SchemaField('low', 'FLOAT', mode='NULLABLE'),\n",
    "    bigquery.SchemaField('close', 'FLOAT', mode='NULLABLE'),\n",
    "    bigquery.SchemaField('adj_close', 'STRING', mode='NULLABLE'),\n",
    "    bigquery.SchemaField('volume', 'INTEGER', mode='NULLABLE'),\n",
    "    ]\n",
    "\n",
    "def create_dataset():\n",
    "    if client.get_dataset(dataset_id) == NotFound:\n",
    "        dataset = bigquery.Dataset(dataset_id)\n",
    "        dataset.location = \"US\"\n",
    "        dataset = client.create_dataset(dataset, exists_ok=True)\n",
    "    else:\n",
    "        pass\n",
    "\n",
    "\n",
    "def create_stocks_table():\n",
    "    job_config = bigquery.LoadJobConfig(\n",
    "            source_format=bigquery.SourceFormat.CSV,\n",
    "            autodetect=True,\n",
    "            create_disposition='CREATE_NEVER',\n",
    "            write_disposition='WRITE_TRUNCATE',\n",
    "            ignore_unknown_values=True,\n",
    "        )\n",
    "    table = bigquery.Table(table_id, schema=TABLE_SCHEMA)\n",
    "    table = client.create_table(table, exists_ok=True)\n",
    "\n",
    "    with open(DATA_FILE, \"rb\") as source_file:\n",
    "        job = client.load_table_from_file(source_file, table_id, job_config=job_config)\n",
    "\n",
    "    job.result()\n",
    "\n",
    "create_dataset()\n",
    "create_stocks_table()"
   ]
  },
  {
   "cell_type": "code",
   "execution_count": 124,
   "metadata": {},
   "outputs": [],
   "source": [
    "import pyspark\n",
    "import pandas as pd\n",
    "from pyspark.sql import SparkSession\n",
    "import pyspark.sql.functions as sf      # sf = spark functions\n",
    "import pyspark.sql.types as st          # st = spark types\n",
    "\n",
    "\n",
    "import os\n",
    "data_dir = '../data'\n",
    "\n",
    "file_names = ['AAPL', 'ADBE','AMZN', 'CRM', 'CSCO', 'GOOGL', 'IBM','INTC','META','MSFT','NFLX','NVDA','ORCL','TSLA']\n",
    "\n",
    "#columns = 'stock_name string, date date, open float, high float, low float, close float, adj_close float, volume int'\n",
    "\n",
    "df_list = []\n",
    "\n",
    "for csv in file_names:\n",
    "    idf = pd.read_csv(os.path.join(data_dir,csv+'.csv'))\n",
    "    idf = idf.rename(columns={'Date':'date', 'Open':'open', 'High':'high', 'Low':'low', 'Close':'close', 'Adj Close':'adj_close', 'Volume':'volume'})\n",
    "    idf.insert(0,\"stock_name\", csv)\n",
    "    df_list.append(idf)\n",
    "\n",
    "df = pd.concat(df_list,axis=0)\n",
    "\n",
    "\n",
    "df.to_csv(os.path.join(data_dir,'all_tech_stocks.csv'), 'w', header=True)\n",
    "#df = sparkql.read.csv(os.path.join(data_dir,'all_tech_stocks.csv'), header=True)"
   ]
  }
 ],
 "metadata": {
  "kernelspec": {
   "display_name": "Python 3.7.9 ('venv': venv)",
   "language": "python",
   "name": "python3"
  },
  "language_info": {
   "codemirror_mode": {
    "name": "ipython",
    "version": 3
   },
   "file_extension": ".py",
   "mimetype": "text/x-python",
   "name": "python",
   "nbconvert_exporter": "python",
   "pygments_lexer": "ipython3",
   "version": "3.7.9"
  },
  "orig_nbformat": 4,
  "vscode": {
   "interpreter": {
    "hash": "787878255ea8dd38a1fd946ed28922cf35034d17edeb5ed1ac929a8397118564"
   }
  }
 },
 "nbformat": 4,
 "nbformat_minor": 2
}
