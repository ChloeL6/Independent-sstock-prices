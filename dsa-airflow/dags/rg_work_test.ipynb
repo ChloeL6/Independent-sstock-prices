{
 "cells": [
  {
   "cell_type": "code",
   "execution_count": 35,
   "metadata": {},
   "outputs": [],
   "source": [
    "import pyspark\n",
    "import pandas as pd\n",
    "from pyspark.sql import SparkSession\n",
    "import pyspark.sql.functions as sf      # sf = spark functions\n",
    "import pyspark.sql.types as st          # st = spark types\n",
    "\n",
    "\n",
    "sparkql = pyspark.sql.SparkSession.builder.master('local').getOrCreate()\n",
    "\n",
    "import os\n",
    "data_dir = '../data'\n",
    "\n",
    "file_names = ['AAPL','ADBE','AMZN', 'CRM', 'CSCO', 'GOOGL', 'IBM','INTC','META','MSFT','NFLX','NVDA','ORCL','TSLA']\n",
    "\n",
    "columns = 'stock_name string, date date, open float, high float, low float, close float, adj_close float, volume int'\n",
    "\n",
    "for csv in file_names:\n",
    "    idf = sparkql.read.csv(os.path.join(data_dir,csv+'.csv'), header=True)\n",
    "    idf = idf.withColumn('stock_name', sf.lit(csv))\n",
    "    idf = idf.toDF('date', 'open', 'high', 'low', 'close', 'adj_close', 'volume', 'stock_name')\n",
    "    #df.select('stock_name', 'Date', 'Open', 'High', 'Low', 'Close', 'Adj Close', 'Volume')\n",
    "    idf = idf.select('stock_name', 'date', 'open', 'high', 'low', 'close', 'adj_close', 'volume')\n",
    "    idf = idf.toPandas()\n",
    "    idf.to_csv(os.path.join(data_dir,'all_tech_stocks.csv'), mode='a')\n",
    "\n",
    "df = sparkql.read.csv(os.path.join(data_dir,'all_tech_stocks.csv'), header=True)\n",
    "\n"
   ]
  },
  {
   "cell_type": "code",
   "execution_count": 31,
   "metadata": {},
   "outputs": [
    {
     "name": "stdout",
     "output_type": "stream",
     "text": [
      "+----------+----------+----------+----------+----------+----------+---------+--------+\n",
      "|stock_name|      date|      open|      high|       low|     close|adj_close|  volume|\n",
      "+----------+----------+----------+----------+----------+----------+---------+--------+\n",
      "|       IBM|2010-01-04|125.411087|127.122368|125.095604|126.625237|81.314735| 6438444|\n",
      "|       IBM|2010-01-05|125.889099|126.051628|124.378586|125.095604|80.332451| 7156104|\n",
      "|       IBM|2010-01-06|124.933075|125.707458|124.101341|124.282982|79.810623| 5863144|\n",
      "|       IBM|2010-01-08|123.393883|125.162521|123.374763|125.095604|80.332451| 4390271|\n",
      "|       IBM|2010-01-12|123.355644|125.554497|123.326958|124.770554|80.123688| 8453249|\n",
      "|       IBM|2010-01-13|124.655830|125.353729|123.479927|124.502869|79.951813| 6752348|\n",
      "|       IBM|2010-01-15|126.223709|127.045891|125.325050|125.984703|80.903419| 8885142|\n",
      "|       IBM|2010-01-21|124.732315|124.942642|122.428299|123.326958|79.196678|10050596|\n",
      "|       IBM|2010-01-26|120.382408|122.131927|119.894836|120.219887|77.201416| 7463524|\n",
      "|       IBM|2010-01-27|120.286804|121.376671|119.541107|120.774376|77.557495| 9120283|\n",
      "|       IBM|2010-01-28|121.443596|121.453156|117.638626|118.307838|75.973564|10064821|\n",
      "|       IBM|2010-02-02|119.302101|120.277245|118.499046|120.009560|77.066368| 6171295|\n",
      "|       IBM|2010-02-08|117.734222|117.801147|116.386230|116.520073|75.160164| 5981551|\n",
      "|       IBM|2010-02-10|117.533463|118.212234|116.835564|117.409180|75.733673| 5459179|\n",
      "|       IBM|2010-02-18|120.583176|122.370934|120.458893|122.189293|78.817039| 5780091|\n",
      "|       IBM|2010-02-19|121.749519|122.428299|121.290634|121.596558|78.434723| 6593043|\n",
      "|       IBM|2010-02-23|120.917786|122.045891|120.458893|120.898659|77.984558| 4803127|\n",
      "|       IBM|2010-03-01|121.892921|123.164436|121.864243|122.915871|79.285713| 4788274|\n",
      "|       IBM|2010-03-04|121.481834|121.481834|119.952202|121.147224|78.144867| 6309786|\n",
      "|       IBM|2010-03-05|121.577438|121.940727|121.453156|121.653923|78.471718| 6422649|\n",
      "+----------+----------+----------+----------+----------+----------+---------+--------+\n",
      "only showing top 20 rows\n",
      "\n"
     ]
    }
   ],
   "source": [
    "df.sample(.5).show()"
   ]
  }
 ],
 "metadata": {
  "kernelspec": {
   "display_name": "Python 3.7.9 ('venv': venv)",
   "language": "python",
   "name": "python3"
  },
  "language_info": {
   "codemirror_mode": {
    "name": "ipython",
    "version": 3
   },
   "file_extension": ".py",
   "mimetype": "text/x-python",
   "name": "python",
   "nbconvert_exporter": "python",
   "pygments_lexer": "ipython3",
   "version": "3.7.9"
  },
  "orig_nbformat": 4,
  "vscode": {
   "interpreter": {
    "hash": "787878255ea8dd38a1fd946ed28922cf35034d17edeb5ed1ac929a8397118564"
   }
  }
 },
 "nbformat": 4,
 "nbformat_minor": 2
}
