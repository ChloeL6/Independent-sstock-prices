{
 "cells": [
  {
   "cell_type": "code",
   "execution_count": 24,
   "metadata": {},
   "outputs": [
    {
     "name": "stdout",
     "output_type": "stream",
     "text": [
      "+----------+----+----+----+---+-----+---------+------+\n",
      "|stock_name|date|open|high|low|close|adj_close|volume|\n",
      "+----------+----+----+----+---+-----+---------+------+\n",
      "+----------+----+----+----+---+-----+---------+------+\n",
      "\n"
     ]
    }
   ],
   "source": [
    "import pyspark\n",
    "import pandas as pd\n",
    "from pyspark.sql import SparkSession\n",
    "import pyspark.sql.functions as sf      # sf = spark functions\n",
    "import pyspark.sql.types as st          # st = spark types\n",
    "\n",
    "\n",
    "sparkql = pyspark.sql.SparkSession.builder.master('local').getOrCreate()\n",
    "\n",
    "import os\n",
    "data_dir = '../data'\n",
    "\n",
    "file_names = ['AAPL','ADBE','AMZN', 'CRM', 'CSCO', 'GOOGL', 'IBM','INTC','META','MSFT','NFLX','NVDA','ORCL','TSLA']\n",
    "\n",
    "columns = 'stock_name string, date date, open float, high float, low float, close float, adj_close float, volume int'\n",
    "\n",
    "df = sparkql.createDataFrame(data=[],schema=columns)\n",
    "\n",
    "for csv in file_names:\n",
    "    idf = sparkql.read.csv(os.path.join(data_dir,csv+'.csv'), header=True)\n",
    "    idf = idf.withColumn('stock_name', sf.lit(csv))\n",
    "    idf = idf.toDF('date', 'open', 'high', 'low', 'close', 'adj_close', 'volume', 'stock_name')\n",
    "    #df.select('stock_name', 'Date', 'Open', 'High', 'Low', 'Close', 'Adj Close', 'Volume')\n",
    "    idf = idf.select('stock_name', 'date', 'open', 'high', 'low', 'close', 'adj_close', 'volume')\n",
    "    df.unionByName(idf)\n",
    "\n",
    "df.show()\n",
    "\n"
   ]
  }
 ],
 "metadata": {
  "kernelspec": {
   "display_name": "Python 3.7.9 ('venv': venv)",
   "language": "python",
   "name": "python3"
  },
  "language_info": {
   "codemirror_mode": {
    "name": "ipython",
    "version": 3
   },
   "file_extension": ".py",
   "mimetype": "text/x-python",
   "name": "python",
   "nbconvert_exporter": "python",
   "pygments_lexer": "ipython3",
   "version": "3.7.9"
  },
  "orig_nbformat": 4,
  "vscode": {
   "interpreter": {
    "hash": "787878255ea8dd38a1fd946ed28922cf35034d17edeb5ed1ac929a8397118564"
   }
  }
 },
 "nbformat": 4,
 "nbformat_minor": 2
}
