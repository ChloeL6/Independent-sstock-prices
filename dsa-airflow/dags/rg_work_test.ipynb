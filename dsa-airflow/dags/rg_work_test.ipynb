{
 "cells": [
  {
   "cell_type": "code",
   "execution_count": 66,
   "metadata": {},
   "outputs": [],
   "source": [
    "import pyspark\n",
    "import pandas as pd\n",
    "from pyspark.sql import SparkSession\n",
    "import pyspark.sql.functions as sf      # sf = spark functions\n",
    "import pyspark.sql.types as st          # st = spark types\n",
    "\n",
    "\n",
    "sparkql = pyspark.sql.SparkSession.builder.master('local').getOrCreate()\n",
    "\n",
    "import os\n",
    "data_dir = '../data'\n",
    "\n",
    "file_names = ['AAPL','ADBE','AMZN', 'CRM', 'CSCO', 'GOOGL', 'IBM','INTC','META','MSFT','NFLX','NVDA','ORCL','TSLA']\n",
    "\n",
    "columns = 'stock_name string, date date, open float, high float, low float, close float, adj_close float, volume int'\n",
    "\n",
    "for csv in file_names:\n",
    "    idf = sparkql.read.csv(os.path.join(data_dir,csv+'.csv'), header=True)\n",
    "    idf = idf.toDF('date', 'open', 'high', 'low', 'close', 'adj_close', 'volume')\n",
    "    idf = idf.withColumn('stock_name', sf.lit(csv))\n",
    "    idf = idf.select('stock_name', 'date', 'open', 'high', 'low', 'close', 'adj_close', 'volume')\n",
    "    idf = idf.toPandas()\n",
    "    idf.to_csv(os.path.join(data_dir,'all_tech_stocks.csv'), mode='a', header=True)\n",
    "\n",
    "df = sparkql.read.csv(os.path.join(data_dir,'all_tech_stocks.csv'), header=True)\n",
    "\n"
   ]
  },
  {
   "cell_type": "code",
   "execution_count": 39,
   "metadata": {},
   "outputs": [
    {
     "name": "stdout",
     "output_type": "stream",
     "text": [
      "23/02/13 13:43:04 WARN CSVHeaderChecker: CSV header does not conform to the schema.\n",
      " Header: , date, stock_name, open, high, low, close, adj_close, volume\n",
      " Schema: _c0, date, stock_name, open, high, low, close, adj_close, volume\n",
      "Expected: _c0 but found: \n",
      "CSV file: file:///Users/Ruben/Desktop/team-week3/dsa-airflow/data/all_tech_stocks.csv\n",
      "+---+----------+----------+--------+--------+--------+--------+---------+----------+\n",
      "|_c0|      date|stock_name|    open|    high|     low|   close|adj_close|    volume|\n",
      "+---+----------+----------+--------+--------+--------+--------+---------+----------+\n",
      "|  1|2010-01-05|      AAPL|7.664286|7.699643|7.616071|7.656429| 6.526476| 601904800|\n",
      "|  3|2010-01-07|      AAPL|7.562500|7.571429|7.466071|7.520714| 6.410790| 477131200|\n",
      "|  4|2010-01-08|      AAPL|7.510714|7.571429|7.466429|7.570714| 6.453412| 447610800|\n",
      "|  5|2010-01-11|      AAPL|7.600000|7.607143|7.444643|7.503929| 6.396483| 462229600|\n",
      "|  8|2010-01-14|      AAPL|7.503929|7.516429|7.465000|7.479643| 6.375781| 432894000|\n",
      "| 10|2010-01-19|      AAPL|7.440357|7.685357|7.401429|7.680000| 6.546568| 730007600|\n",
      "| 11|2010-01-20|      AAPL|7.675357|7.698214|7.482143|7.561786| 6.445801| 612152800|\n",
      "| 12|2010-01-21|      AAPL|7.574286|7.618214|7.400357|7.431071| 6.334377| 608154400|\n",
      "| 14|2010-01-25|      AAPL|7.232500|7.310714|7.149643|7.252500| 6.182159|1065699600|\n",
      "| 15|2010-01-26|      AAPL|7.355357|7.632500|7.235000|7.355000| 6.269532|1867110000|\n",
      "| 17|2010-01-28|      AAPL|7.318929|7.339286|7.096429|7.117500| 6.067085|1173502400|\n",
      "| 18|2010-01-29|      AAPL|7.181429|7.221429|6.794643|6.859286| 5.846978|1245952400|\n",
      "| 19|2010-02-01|      AAPL|6.870357|7.000000|6.832143|6.954643| 5.928262| 749876400|\n",
      "| 20|2010-02-02|      AAPL|6.996786|7.011429|6.906429|6.995000| 5.962664| 698342400|\n",
      "| 22|2010-02-04|      AAPL|7.026071|7.084643|6.841786|6.858929| 5.846675| 757652000|\n",
      "| 23|2010-02-05|      AAPL|6.879643|7.000000|6.816071|6.980714| 5.950485| 850306800|\n",
      "| 24|2010-02-08|      AAPL|6.988929|7.067143|6.928571|6.932857| 5.909691| 478270800|\n",
      "| 25|2010-02-09|      AAPL|7.015000|7.053571|6.955357|7.006786| 5.972710| 632886800|\n",
      "| 26|2010-02-10|      AAPL|6.996071|7.021429|6.937857|6.968571| 5.940135| 370361600|\n",
      "| 27|2010-02-11|      AAPL|6.960000|7.133929|6.930714|7.095357| 6.048210| 550345600|\n",
      "+---+----------+----------+--------+--------+--------+--------+---------+----------+\n",
      "only showing top 20 rows\n",
      "\n"
     ]
    }
   ],
   "source": [
    "df.sample(.5).show()"
   ]
  }
 ],
 "metadata": {
  "kernelspec": {
   "display_name": "Python 3.7.9 ('venv': venv)",
   "language": "python",
   "name": "python3"
  },
  "language_info": {
   "codemirror_mode": {
    "name": "ipython",
    "version": 3
   },
   "file_extension": ".py",
   "mimetype": "text/x-python",
   "name": "python",
   "nbconvert_exporter": "python",
   "pygments_lexer": "ipython3",
   "version": "3.7.9"
  },
  "orig_nbformat": 4,
  "vscode": {
   "interpreter": {
    "hash": "787878255ea8dd38a1fd946ed28922cf35034d17edeb5ed1ac929a8397118564"
   }
  }
 },
 "nbformat": 4,
 "nbformat_minor": 2
}
