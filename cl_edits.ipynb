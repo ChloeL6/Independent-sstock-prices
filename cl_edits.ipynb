{
 "cells": [
  {
   "cell_type": "code",
   "execution_count": 8,
   "metadata": {},
   "outputs": [],
   "source": [
    "import pandas as pd\n",
    "import pyspark\n",
    "import os \n",
    "from pyspark.sql import SparkSession\n",
    "import pyspark.sql.functions as sf      # sf = spark functions\n",
    "import pyspark.sql.types as st          # st = spark types\n",
    "import datetime as dt\n",
    "\n",
    "spark = SparkSession.builder.master('local').getOrCreate()\n",
    "\n",
    "# spark = SparkSession.builder.getOrCreate()"
   ]
  },
  {
   "cell_type": "code",
   "execution_count": 6,
   "metadata": {},
   "outputs": [
    {
     "name": "stdout",
     "output_type": "stream",
     "text": [
      "root\n",
      " |-- Yearmon: date (nullable = true)\n",
      " |-- CPI: float (nullable = true)\n",
      "\n",
      "root\n",
      " |-- Year: date (nullable = true)\n",
      " |-- Jan: float (nullable = true)\n",
      " |-- Feb: float (nullable = true)\n",
      " |-- Mar: float (nullable = true)\n",
      " |-- Apr: float (nullable = true)\n",
      " |-- May: float (nullable = true)\n",
      " |-- Jun: float (nullable = true)\n",
      " |-- Jul: float (nullable = true)\n",
      " |-- Aug: float (nullable = true)\n",
      " |-- Sep: float (nullable = true)\n",
      " |-- Oct: float (nullable = true)\n",
      " |-- Nov: float (nullable = true)\n",
      " |-- Dec: float (nullable = true)\n",
      "\n"
     ]
    }
   ],
   "source": [
    "data_dir = './data'\n",
    "\n",
    "cpi_file = 'US-CPI.csv'\n",
    "unemp_file = 'USUnemployment.csv'\n",
    "\n",
    "c_schema = 'Yearmon date, CPI float'\n",
    "u_schema = 'Year date, Jan float ,Feb float ,Mar float,Apr float ,May float,Jun float ,Jul float ,Aug float ,Sep float,Oct float,Nov float,Dec float'\n",
    "\n",
    "cpi_df = spark.read.csv(os.path.join(data_dir, cpi_file), schema=c_schema, header=0, enforceSchema=True)\n",
    "unemp_df = spark.read.csv(os.path.join(data_dir, unemp_file), schema=u_schema, header=0, enforceSchema=True)\n",
    "\n",
    "cpi_df.printSchema()\n",
    "unemp_df.printSchema()"
   ]
  },
  {
   "cell_type": "code",
   "execution_count": 9,
   "metadata": {},
   "outputs": [
    {
     "name": "stdout",
     "output_type": "stream",
     "text": [
      "root\n",
      " |-- year: date (nullable = true)\n",
      " |-- cpi: float (nullable = true)\n",
      "\n",
      "root\n",
      " |-- year: date (nullable = true)\n",
      " |-- jan: float (nullable = true)\n",
      " |-- feb: float (nullable = true)\n",
      " |-- mar: float (nullable = true)\n",
      " |-- apr: float (nullable = true)\n",
      " |-- may: float (nullable = true)\n",
      " |-- jun: float (nullable = true)\n",
      " |-- jul: float (nullable = true)\n",
      " |-- aug: float (nullable = true)\n",
      " |-- sep: float (nullable = true)\n",
      " |-- oct: float (nullable = true)\n",
      " |-- nov: float (nullable = true)\n",
      " |-- dec: float (nullable = true)\n",
      " |-- avg_unemp_rate_per_year: float (nullable = true)\n",
      "\n"
     ]
    }
   ],
   "source": [
    "# rename cols in both files\n",
    "\n",
    "for column in cpi_df.columns: \n",
    "  cpi_df = cpi_df.withColumnRenamed(column, column.lower())\n",
    "\n",
    "cpi_df = cpi_df.withColumnRenamed('yearmon', 'year')\n",
    "\n",
    "for column in unemp_df.columns: \n",
    "  unemp_df = unemp_df.withColumnRenamed(column, column.lower())\n",
    "\n",
    "# calculate avg unemployment rate per year\n",
    "udf_avg = sf.udf(lambda array: sum(array)/len(array))\n",
    "unemp_df = unemp_df.withColumn(\"avg_unemp_rate_per_year\", udf_avg(sf.array('Jan','Feb','Mar','Apr','May','Jun','Jul','Aug','Sep','Oct','Nov','Dec')).cast('float'))\n",
    "unemp_df = unemp_df.drop('avg_unemp_rate')\n",
    "\n",
    "# # calculate avg inflation rate per year\n",
    "# cpi_df = cpi_df.groupBy('year').withColumn('avg_CPI_per_', sf.avg(sf.col('CPI')))\n",
    "\n",
    "cpi_df.printSchema()\n",
    "unemp_df.printSchema()"
   ]
  },
  {
   "cell_type": "code",
   "execution_count": 30,
   "metadata": {},
   "outputs": [
    {
     "data": {
      "text/plain": [
       "year                    int64\n",
       "jan                   float64\n",
       "feb                   float64\n",
       "mar                   float64\n",
       "apr                   float64\n",
       "may                   float64\n",
       "jun                   float64\n",
       "jul                   float64\n",
       "aug                   float64\n",
       "sep                   float64\n",
       "oct                   float64\n",
       "nov                   float64\n",
       "dec                   float64\n",
       "avg_unemp_per_year    float64\n",
       "dtype: object"
      ]
     },
     "execution_count": 30,
     "metadata": {},
     "output_type": "execute_result"
    }
   ],
   "source": [
    "# read and rename cpi file / parse_dates=['Yearmon']\n",
    "cpi  = pd.read_csv(os.path.join(data_dir, cpi_file), header=0)\n",
    "cpi = cpi.rename(columns={'Yearmon': 'year', 'CPI': 'cpi'})\n",
    "cpi[['month', 'date', 'year']] = cpi.year.str.split(\"-\", expand=True)\n",
    "\n",
    "# read and rename unemployment file\n",
    "unemp = pd.read_csv(os.path.join(data_dir, unemp_file), header=0)\n",
    "unemp.columns = unemp.columns.str.lower()\n",
    "\n",
    "\n",
    "# calculate the avg yearly unemp. rate\n",
    "columns = ['jan',\t'feb',\t'mar',\t'apr',\t'may'\t,'jun',\t'jul',\t'aug',\t'sep',\t'oct',\t'nov',\t'dec']\n",
    "unemp['avg_unemp_per_year']  = unemp[columns].mean(axis=1)\n",
    "\n",
    "# calculate the avg yearly cpi rate\n",
    "avg_cpi_per_year = cpi.groupby('year').mean('cpi')\n",
    "avg_cpi_per_year = avg_cpi_per_year.reset_index()\n",
    "\n",
    "# unemp.head(5)\n",
    "avg_cpi_per_year.head(10)\n",
    "unemp.dtypes\n"
   ]
  },
  {
   "cell_type": "code",
   "execution_count": null,
   "metadata": {},
   "outputs": [],
   "source": [
    "from google.cloud import bigquery\n",
    "\n",
    "# create full table id\n",
    "project_id = \"team-week-3\"\n",
    "dataset_id = \"\"\n",
    "table_name = \"titles\"\n",
    "table_id = f\"{project_id}.{dataset_id}.{table_name}\"\n",
    "\n"
   ]
  }
 ],
 "metadata": {
  "kernelspec": {
   "display_name": "venv",
   "language": "python",
   "name": "python3"
  },
  "language_info": {
   "codemirror_mode": {
    "name": "ipython",
    "version": 3
   },
   "file_extension": ".py",
   "mimetype": "text/x-python",
   "name": "python",
   "nbconvert_exporter": "python",
   "pygments_lexer": "ipython3",
   "version": "3.7.15"
  },
  "orig_nbformat": 4,
  "vscode": {
   "interpreter": {
    "hash": "13cd2dfbaa0c360159abf2d98dc2f30be3ac863f44bedcc9d13de3e4ef3ae6ec"
   }
  }
 },
 "nbformat": 4,
 "nbformat_minor": 2
}
