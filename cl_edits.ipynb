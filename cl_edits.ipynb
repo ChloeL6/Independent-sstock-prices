{
 "cells": [
  {
   "cell_type": "code",
   "execution_count": 1,
   "metadata": {},
   "outputs": [
    {
     "name": "stderr",
     "output_type": "stream",
     "text": [
      "your 131072x1 screen size is bogus. expect trouble\n"
     ]
    },
    {
     "name": "stdout",
     "output_type": "stream",
     "text": [
      "23/02/14 11:01:41 WARN Utils: Your hostname, DESKTOP-SU1U0NI resolves to a loopback address: 127.0.1.1; using 172.21.244.112 instead (on interface eth0)\n",
      "23/02/14 11:01:41 WARN Utils: Set SPARK_LOCAL_IP if you need to bind to another address\n"
     ]
    },
    {
     "name": "stderr",
     "output_type": "stream",
     "text": [
      "Setting default log level to \"WARN\".\n",
      "To adjust logging level use sc.setLogLevel(newLevel). For SparkR, use setLogLevel(newLevel).\n"
     ]
    },
    {
     "name": "stdout",
     "output_type": "stream",
     "text": [
      "23/02/14 11:01:44 WARN NativeCodeLoader: Unable to load native-hadoop library for your platform... using builtin-java classes where applicable\n"
     ]
    }
   ],
   "source": [
    "import pandas as pd\n",
    "import pyspark\n",
    "import os \n",
    "from pyspark.sql import SparkSession\n",
    "import pyspark.sql.functions as sf      # sf = spark functions\n",
    "import pyspark.sql.types as st          # st = spark types\n",
    "\n",
    "spark = SparkSession.builder.master('local').getOrCreate()"
   ]
  },
  {
   "cell_type": "code",
   "execution_count": 4,
   "metadata": {},
   "outputs": [
    {
     "name": "stdout",
     "output_type": "stream",
     "text": [
      "root\n",
      " |-- Yearmon: date (nullable = true)\n",
      " |-- CPI: float (nullable = true)\n",
      "\n",
      "root\n",
      " |-- Year: date (nullable = true)\n",
      " |-- Jan: integer (nullable = true)\n",
      " |-- Feb: integer (nullable = true)\n",
      " |-- Mar: integer (nullable = true)\n",
      " |-- Apr: integer (nullable = true)\n",
      " |-- May: integer (nullable = true)\n",
      " |-- Jun: integer (nullable = true)\n",
      " |-- Jul: integer (nullable = true)\n",
      " |-- Aug: integer (nullable = true)\n",
      " |-- Sep: integer (nullable = true)\n",
      " |-- Oct: integer (nullable = true)\n",
      " |-- Nov: integer (nullable = true)\n",
      " |-- Dec: integer (nullable = true)\n",
      "\n"
     ]
    }
   ],
   "source": [
    "data_dir = './data'\n",
    "\n",
    "cpi_file = 'US-CPI.csv'\n",
    "unemp_file = 'USUnemployment.csv'\n",
    "\n",
    "c_schema = 'Yearmon date, CPI float'\n",
    "u_schema = 'Year date, Jan int ,Feb int ,Mar int,Apr int ,May int,Jun int ,Jul int ,Aug int ,Sep int,Oct int,Nov int,Dec int'\n",
    "\n",
    "cpi_df = spark.read.csv(os.path.join(data_dir, cpi_file), schema=c_schema, header=0, enforceSchema=True)\n",
    "unemp_df = spark.read.csv(os.path.join(data_dir, unemp_file), schema=u_schema, header=0, enforceSchema=True)\n",
    "\n",
    "cpi_df.printSchema()\n",
    "unemp_df.printSchema()"
   ]
  },
  {
   "cell_type": "code",
   "execution_count": null,
   "metadata": {},
   "outputs": [],
   "source": [
    "# rename cols in both files\n",
    "\n",
    "def rename_cols():\n",
    "  for column in df.columns: \n",
    "    df = df.withColumnRenamed(column, column.lower())\n",
    "  return df\n",
    "\n",
    "udf_rename = sf.udf(rename_cols)\n",
    "\n",
    "cpi_df = cpi_df.apply(udf_rename)\n",
    "unemp_df = unemp_df.apply(udf_rename)\n",
    "\n",
    "cpi_df.show(5)\n",
    "unemp_df.show(5)\n",
    "\n",
    "# # calculate avg unemployment rate per year\n",
    "# unemp_df = unemp_df.withColumn(\"avg_unemp_rate\", sf.avg.array('Jan','Feb','Mar','Apr','May','Jun','Jul','Aug','Sep','Oct','Nov','Dec'))\n",
    "\n",
    "# # calculate avg inflation rate per year\n",
    "# cpi_df = cpi_df.groupBy('yearmon').withColumn('avg_CPI', avg())"
   ]
  }
 ],
 "metadata": {
  "kernelspec": {
   "display_name": "venv",
   "language": "python",
   "name": "python3"
  },
  "language_info": {
   "codemirror_mode": {
    "name": "ipython",
    "version": 3
   },
   "file_extension": ".py",
   "mimetype": "text/x-python",
   "name": "python",
   "nbconvert_exporter": "python",
   "pygments_lexer": "ipython3",
   "version": "3.7.15"
  },
  "orig_nbformat": 4,
  "vscode": {
   "interpreter": {
    "hash": "13cd2dfbaa0c360159abf2d98dc2f30be3ac863f44bedcc9d13de3e4ef3ae6ec"
   }
  }
 },
 "nbformat": 4,
 "nbformat_minor": 2
}
